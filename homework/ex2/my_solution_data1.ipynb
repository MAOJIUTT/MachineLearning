{
 "cells": [
  {
   "metadata": {},
   "cell_type": "markdown",
   "source": [
    "# 分类问题\n",
    "## logistic回归\n",
    "在训练的初始阶段，我们将要构建一个逻辑回归模型来预测，某个学生是否被大学录取。设想你是大学相关部分的管理者，想通过申请学生两次测试的评分，来决定他们是否被录取。现在你拥有之前申请学生的可以用于训练逻辑回归的训练样本集。对于每一个训练样本，你有他们两次测试的评分和最后是被录取的结果。为了完成这个预测任务，我们准备构建一个可以基于两次测试评分来评估录取可能性的分类模型。"
   ],
   "id": "bfbd76196d246dbe"
  },
  {
   "metadata": {
    "ExecuteTime": {
     "end_time": "2024-08-12T06:15:06.915374Z",
     "start_time": "2024-08-12T06:15:05.660308Z"
    }
   },
   "cell_type": "code",
   "source": [
    "import numpy as np\n",
    "import pandas as pd\n",
    "from matplotlib import pyplot as plt\n",
    "\n",
    "path = 'ex2data1.txt'\n",
    "\n",
    "# 应该先看数据的结构，再对其进行命名\n",
    "# data = pd.read_csv(path)\n",
    "# data.shape\n",
    "data = pd.read_csv(path, header=None, names=['Exam 1', 'Exam 2','Admitted'])\n",
    "data.head()"
   ],
   "id": "1093fdc65a4c7151",
   "outputs": [
    {
     "data": {
      "text/plain": [
       "      Exam 1     Exam 2  Admitted\n",
       "0  34.623660  78.024693         0\n",
       "1  30.286711  43.894998         0\n",
       "2  35.847409  72.902198         0\n",
       "3  60.182599  86.308552         1\n",
       "4  79.032736  75.344376         1"
      ],
      "text/html": [
       "<div>\n",
       "<style scoped>\n",
       "    .dataframe tbody tr th:only-of-type {\n",
       "        vertical-align: middle;\n",
       "    }\n",
       "\n",
       "    .dataframe tbody tr th {\n",
       "        vertical-align: top;\n",
       "    }\n",
       "\n",
       "    .dataframe thead th {\n",
       "        text-align: right;\n",
       "    }\n",
       "</style>\n",
       "<table border=\"1\" class=\"dataframe\">\n",
       "  <thead>\n",
       "    <tr style=\"text-align: right;\">\n",
       "      <th></th>\n",
       "      <th>Exam 1</th>\n",
       "      <th>Exam 2</th>\n",
       "      <th>Admitted</th>\n",
       "    </tr>\n",
       "  </thead>\n",
       "  <tbody>\n",
       "    <tr>\n",
       "      <th>0</th>\n",
       "      <td>34.623660</td>\n",
       "      <td>78.024693</td>\n",
       "      <td>0</td>\n",
       "    </tr>\n",
       "    <tr>\n",
       "      <th>1</th>\n",
       "      <td>30.286711</td>\n",
       "      <td>43.894998</td>\n",
       "      <td>0</td>\n",
       "    </tr>\n",
       "    <tr>\n",
       "      <th>2</th>\n",
       "      <td>35.847409</td>\n",
       "      <td>72.902198</td>\n",
       "      <td>0</td>\n",
       "    </tr>\n",
       "    <tr>\n",
       "      <th>3</th>\n",
       "      <td>60.182599</td>\n",
       "      <td>86.308552</td>\n",
       "      <td>1</td>\n",
       "    </tr>\n",
       "    <tr>\n",
       "      <th>4</th>\n",
       "      <td>79.032736</td>\n",
       "      <td>75.344376</td>\n",
       "      <td>1</td>\n",
       "    </tr>\n",
       "  </tbody>\n",
       "</table>\n",
       "</div>"
      ]
     },
     "execution_count": 2,
     "metadata": {},
     "output_type": "execute_result"
    }
   ],
   "execution_count": 2
  },
  {
   "metadata": {},
   "cell_type": "markdown",
   "source": "## 可视化数据",
   "id": "4d6820c03b13d4a7"
  },
  {
   "metadata": {},
   "cell_type": "markdown",
   "source": "在此解释一下表达式：positive = data[data['Admitted'].isin([1])]的含义。",
   "id": "ea06b999b164f096"
  },
  {
   "metadata": {
    "ExecuteTime": {
     "end_time": "2024-08-12T06:15:06.928784Z",
     "start_time": "2024-08-12T06:15:06.915374Z"
    }
   },
   "cell_type": "code",
   "source": [
    "# 判断 data 数据框中 Admitted 列的每个值是否等于 1, 并生成一个全为布尔值的特征向量\n",
    "a = data['Admitted'].isin([1])\n",
    "print(a)\n",
    "# 通过数值索引，得到布尔值为True的特征向量\n",
    "b = data[a]\n",
    "b"
   ],
   "id": "12f62f87508617d4",
   "outputs": [
    {
     "name": "stdout",
     "output_type": "stream",
     "text": [
      "0     False\n",
      "1     False\n",
      "2     False\n",
      "3      True\n",
      "4      True\n",
      "      ...  \n",
      "95     True\n",
      "96     True\n",
      "97     True\n",
      "98     True\n",
      "99     True\n",
      "Name: Admitted, Length: 100, dtype: bool\n"
     ]
    },
    {
     "data": {
      "text/plain": [
       "       Exam 1     Exam 2  Admitted\n",
       "3   60.182599  86.308552         1\n",
       "4   79.032736  75.344376         1\n",
       "6   61.106665  96.511426         1\n",
       "7   75.024746  46.554014         1\n",
       "8   76.098787  87.420570         1\n",
       "9   84.432820  43.533393         1\n",
       "12  82.307053  76.481963         1\n",
       "13  69.364589  97.718692         1\n",
       "15  53.971052  89.207350         1\n",
       "16  69.070144  52.740470         1\n",
       "18  70.661510  92.927138         1\n",
       "19  76.978784  47.575964         1\n",
       "21  89.676776  65.799366         1\n",
       "24  77.924091  68.972360         1\n",
       "25  62.271014  69.954458         1\n",
       "26  80.190181  44.821629         1\n",
       "30  61.379289  72.807887         1\n",
       "31  85.404519  57.051984         1\n",
       "33  52.045405  69.432860         1\n",
       "37  64.176989  80.908061         1\n",
       "40  83.902394  56.308046         1\n",
       "42  94.443368  65.568922         1\n",
       "46  77.193035  70.458200         1\n",
       "47  97.771599  86.727822         1\n",
       "48  62.073064  96.768824         1\n",
       "49  91.564974  88.696293         1\n",
       "50  79.944818  74.163119         1\n",
       "51  99.272527  60.999031         1\n",
       "52  90.546714  43.390602         1\n",
       "56  97.645634  68.861573         1\n",
       "58  74.248691  69.824571         1\n",
       "59  71.796462  78.453562         1\n",
       "60  75.395611  85.759937         1\n",
       "66  40.457551  97.535185         1\n",
       "68  80.279574  92.116061         1\n",
       "69  66.746719  60.991394         1\n",
       "71  64.039320  78.031688         1\n",
       "72  72.346494  96.227593         1\n",
       "73  60.457886  73.094998         1\n",
       "74  58.840956  75.858448         1\n",
       "75  99.827858  72.369252         1\n",
       "76  47.264269  88.475865         1\n",
       "77  50.458160  75.809860         1\n",
       "80  88.913896  69.803789         1\n",
       "81  94.834507  45.694307         1\n",
       "82  67.319257  66.589353         1\n",
       "83  57.238706  59.514282         1\n",
       "84  80.366756  90.960148         1\n",
       "85  68.468522  85.594307         1\n",
       "87  75.477702  90.424539         1\n",
       "88  78.635424  96.647427         1\n",
       "90  94.094331  77.159105         1\n",
       "91  90.448551  87.508792         1\n",
       "93  74.492692  84.845137         1\n",
       "94  89.845807  45.358284         1\n",
       "95  83.489163  48.380286         1\n",
       "96  42.261701  87.103851         1\n",
       "97  99.315009  68.775409         1\n",
       "98  55.340018  64.931938         1\n",
       "99  74.775893  89.529813         1"
      ],
      "text/html": [
       "<div>\n",
       "<style scoped>\n",
       "    .dataframe tbody tr th:only-of-type {\n",
       "        vertical-align: middle;\n",
       "    }\n",
       "\n",
       "    .dataframe tbody tr th {\n",
       "        vertical-align: top;\n",
       "    }\n",
       "\n",
       "    .dataframe thead th {\n",
       "        text-align: right;\n",
       "    }\n",
       "</style>\n",
       "<table border=\"1\" class=\"dataframe\">\n",
       "  <thead>\n",
       "    <tr style=\"text-align: right;\">\n",
       "      <th></th>\n",
       "      <th>Exam 1</th>\n",
       "      <th>Exam 2</th>\n",
       "      <th>Admitted</th>\n",
       "    </tr>\n",
       "  </thead>\n",
       "  <tbody>\n",
       "    <tr>\n",
       "      <th>3</th>\n",
       "      <td>60.182599</td>\n",
       "      <td>86.308552</td>\n",
       "      <td>1</td>\n",
       "    </tr>\n",
       "    <tr>\n",
       "      <th>4</th>\n",
       "      <td>79.032736</td>\n",
       "      <td>75.344376</td>\n",
       "      <td>1</td>\n",
       "    </tr>\n",
       "    <tr>\n",
       "      <th>6</th>\n",
       "      <td>61.106665</td>\n",
       "      <td>96.511426</td>\n",
       "      <td>1</td>\n",
       "    </tr>\n",
       "    <tr>\n",
       "      <th>7</th>\n",
       "      <td>75.024746</td>\n",
       "      <td>46.554014</td>\n",
       "      <td>1</td>\n",
       "    </tr>\n",
       "    <tr>\n",
       "      <th>8</th>\n",
       "      <td>76.098787</td>\n",
       "      <td>87.420570</td>\n",
       "      <td>1</td>\n",
       "    </tr>\n",
       "    <tr>\n",
       "      <th>9</th>\n",
       "      <td>84.432820</td>\n",
       "      <td>43.533393</td>\n",
       "      <td>1</td>\n",
       "    </tr>\n",
       "    <tr>\n",
       "      <th>12</th>\n",
       "      <td>82.307053</td>\n",
       "      <td>76.481963</td>\n",
       "      <td>1</td>\n",
       "    </tr>\n",
       "    <tr>\n",
       "      <th>13</th>\n",
       "      <td>69.364589</td>\n",
       "      <td>97.718692</td>\n",
       "      <td>1</td>\n",
       "    </tr>\n",
       "    <tr>\n",
       "      <th>15</th>\n",
       "      <td>53.971052</td>\n",
       "      <td>89.207350</td>\n",
       "      <td>1</td>\n",
       "    </tr>\n",
       "    <tr>\n",
       "      <th>16</th>\n",
       "      <td>69.070144</td>\n",
       "      <td>52.740470</td>\n",
       "      <td>1</td>\n",
       "    </tr>\n",
       "    <tr>\n",
       "      <th>18</th>\n",
       "      <td>70.661510</td>\n",
       "      <td>92.927138</td>\n",
       "      <td>1</td>\n",
       "    </tr>\n",
       "    <tr>\n",
       "      <th>19</th>\n",
       "      <td>76.978784</td>\n",
       "      <td>47.575964</td>\n",
       "      <td>1</td>\n",
       "    </tr>\n",
       "    <tr>\n",
       "      <th>21</th>\n",
       "      <td>89.676776</td>\n",
       "      <td>65.799366</td>\n",
       "      <td>1</td>\n",
       "    </tr>\n",
       "    <tr>\n",
       "      <th>24</th>\n",
       "      <td>77.924091</td>\n",
       "      <td>68.972360</td>\n",
       "      <td>1</td>\n",
       "    </tr>\n",
       "    <tr>\n",
       "      <th>25</th>\n",
       "      <td>62.271014</td>\n",
       "      <td>69.954458</td>\n",
       "      <td>1</td>\n",
       "    </tr>\n",
       "    <tr>\n",
       "      <th>26</th>\n",
       "      <td>80.190181</td>\n",
       "      <td>44.821629</td>\n",
       "      <td>1</td>\n",
       "    </tr>\n",
       "    <tr>\n",
       "      <th>30</th>\n",
       "      <td>61.379289</td>\n",
       "      <td>72.807887</td>\n",
       "      <td>1</td>\n",
       "    </tr>\n",
       "    <tr>\n",
       "      <th>31</th>\n",
       "      <td>85.404519</td>\n",
       "      <td>57.051984</td>\n",
       "      <td>1</td>\n",
       "    </tr>\n",
       "    <tr>\n",
       "      <th>33</th>\n",
       "      <td>52.045405</td>\n",
       "      <td>69.432860</td>\n",
       "      <td>1</td>\n",
       "    </tr>\n",
       "    <tr>\n",
       "      <th>37</th>\n",
       "      <td>64.176989</td>\n",
       "      <td>80.908061</td>\n",
       "      <td>1</td>\n",
       "    </tr>\n",
       "    <tr>\n",
       "      <th>40</th>\n",
       "      <td>83.902394</td>\n",
       "      <td>56.308046</td>\n",
       "      <td>1</td>\n",
       "    </tr>\n",
       "    <tr>\n",
       "      <th>42</th>\n",
       "      <td>94.443368</td>\n",
       "      <td>65.568922</td>\n",
       "      <td>1</td>\n",
       "    </tr>\n",
       "    <tr>\n",
       "      <th>46</th>\n",
       "      <td>77.193035</td>\n",
       "      <td>70.458200</td>\n",
       "      <td>1</td>\n",
       "    </tr>\n",
       "    <tr>\n",
       "      <th>47</th>\n",
       "      <td>97.771599</td>\n",
       "      <td>86.727822</td>\n",
       "      <td>1</td>\n",
       "    </tr>\n",
       "    <tr>\n",
       "      <th>48</th>\n",
       "      <td>62.073064</td>\n",
       "      <td>96.768824</td>\n",
       "      <td>1</td>\n",
       "    </tr>\n",
       "    <tr>\n",
       "      <th>49</th>\n",
       "      <td>91.564974</td>\n",
       "      <td>88.696293</td>\n",
       "      <td>1</td>\n",
       "    </tr>\n",
       "    <tr>\n",
       "      <th>50</th>\n",
       "      <td>79.944818</td>\n",
       "      <td>74.163119</td>\n",
       "      <td>1</td>\n",
       "    </tr>\n",
       "    <tr>\n",
       "      <th>51</th>\n",
       "      <td>99.272527</td>\n",
       "      <td>60.999031</td>\n",
       "      <td>1</td>\n",
       "    </tr>\n",
       "    <tr>\n",
       "      <th>52</th>\n",
       "      <td>90.546714</td>\n",
       "      <td>43.390602</td>\n",
       "      <td>1</td>\n",
       "    </tr>\n",
       "    <tr>\n",
       "      <th>56</th>\n",
       "      <td>97.645634</td>\n",
       "      <td>68.861573</td>\n",
       "      <td>1</td>\n",
       "    </tr>\n",
       "    <tr>\n",
       "      <th>58</th>\n",
       "      <td>74.248691</td>\n",
       "      <td>69.824571</td>\n",
       "      <td>1</td>\n",
       "    </tr>\n",
       "    <tr>\n",
       "      <th>59</th>\n",
       "      <td>71.796462</td>\n",
       "      <td>78.453562</td>\n",
       "      <td>1</td>\n",
       "    </tr>\n",
       "    <tr>\n",
       "      <th>60</th>\n",
       "      <td>75.395611</td>\n",
       "      <td>85.759937</td>\n",
       "      <td>1</td>\n",
       "    </tr>\n",
       "    <tr>\n",
       "      <th>66</th>\n",
       "      <td>40.457551</td>\n",
       "      <td>97.535185</td>\n",
       "      <td>1</td>\n",
       "    </tr>\n",
       "    <tr>\n",
       "      <th>68</th>\n",
       "      <td>80.279574</td>\n",
       "      <td>92.116061</td>\n",
       "      <td>1</td>\n",
       "    </tr>\n",
       "    <tr>\n",
       "      <th>69</th>\n",
       "      <td>66.746719</td>\n",
       "      <td>60.991394</td>\n",
       "      <td>1</td>\n",
       "    </tr>\n",
       "    <tr>\n",
       "      <th>71</th>\n",
       "      <td>64.039320</td>\n",
       "      <td>78.031688</td>\n",
       "      <td>1</td>\n",
       "    </tr>\n",
       "    <tr>\n",
       "      <th>72</th>\n",
       "      <td>72.346494</td>\n",
       "      <td>96.227593</td>\n",
       "      <td>1</td>\n",
       "    </tr>\n",
       "    <tr>\n",
       "      <th>73</th>\n",
       "      <td>60.457886</td>\n",
       "      <td>73.094998</td>\n",
       "      <td>1</td>\n",
       "    </tr>\n",
       "    <tr>\n",
       "      <th>74</th>\n",
       "      <td>58.840956</td>\n",
       "      <td>75.858448</td>\n",
       "      <td>1</td>\n",
       "    </tr>\n",
       "    <tr>\n",
       "      <th>75</th>\n",
       "      <td>99.827858</td>\n",
       "      <td>72.369252</td>\n",
       "      <td>1</td>\n",
       "    </tr>\n",
       "    <tr>\n",
       "      <th>76</th>\n",
       "      <td>47.264269</td>\n",
       "      <td>88.475865</td>\n",
       "      <td>1</td>\n",
       "    </tr>\n",
       "    <tr>\n",
       "      <th>77</th>\n",
       "      <td>50.458160</td>\n",
       "      <td>75.809860</td>\n",
       "      <td>1</td>\n",
       "    </tr>\n",
       "    <tr>\n",
       "      <th>80</th>\n",
       "      <td>88.913896</td>\n",
       "      <td>69.803789</td>\n",
       "      <td>1</td>\n",
       "    </tr>\n",
       "    <tr>\n",
       "      <th>81</th>\n",
       "      <td>94.834507</td>\n",
       "      <td>45.694307</td>\n",
       "      <td>1</td>\n",
       "    </tr>\n",
       "    <tr>\n",
       "      <th>82</th>\n",
       "      <td>67.319257</td>\n",
       "      <td>66.589353</td>\n",
       "      <td>1</td>\n",
       "    </tr>\n",
       "    <tr>\n",
       "      <th>83</th>\n",
       "      <td>57.238706</td>\n",
       "      <td>59.514282</td>\n",
       "      <td>1</td>\n",
       "    </tr>\n",
       "    <tr>\n",
       "      <th>84</th>\n",
       "      <td>80.366756</td>\n",
       "      <td>90.960148</td>\n",
       "      <td>1</td>\n",
       "    </tr>\n",
       "    <tr>\n",
       "      <th>85</th>\n",
       "      <td>68.468522</td>\n",
       "      <td>85.594307</td>\n",
       "      <td>1</td>\n",
       "    </tr>\n",
       "    <tr>\n",
       "      <th>87</th>\n",
       "      <td>75.477702</td>\n",
       "      <td>90.424539</td>\n",
       "      <td>1</td>\n",
       "    </tr>\n",
       "    <tr>\n",
       "      <th>88</th>\n",
       "      <td>78.635424</td>\n",
       "      <td>96.647427</td>\n",
       "      <td>1</td>\n",
       "    </tr>\n",
       "    <tr>\n",
       "      <th>90</th>\n",
       "      <td>94.094331</td>\n",
       "      <td>77.159105</td>\n",
       "      <td>1</td>\n",
       "    </tr>\n",
       "    <tr>\n",
       "      <th>91</th>\n",
       "      <td>90.448551</td>\n",
       "      <td>87.508792</td>\n",
       "      <td>1</td>\n",
       "    </tr>\n",
       "    <tr>\n",
       "      <th>93</th>\n",
       "      <td>74.492692</td>\n",
       "      <td>84.845137</td>\n",
       "      <td>1</td>\n",
       "    </tr>\n",
       "    <tr>\n",
       "      <th>94</th>\n",
       "      <td>89.845807</td>\n",
       "      <td>45.358284</td>\n",
       "      <td>1</td>\n",
       "    </tr>\n",
       "    <tr>\n",
       "      <th>95</th>\n",
       "      <td>83.489163</td>\n",
       "      <td>48.380286</td>\n",
       "      <td>1</td>\n",
       "    </tr>\n",
       "    <tr>\n",
       "      <th>96</th>\n",
       "      <td>42.261701</td>\n",
       "      <td>87.103851</td>\n",
       "      <td>1</td>\n",
       "    </tr>\n",
       "    <tr>\n",
       "      <th>97</th>\n",
       "      <td>99.315009</td>\n",
       "      <td>68.775409</td>\n",
       "      <td>1</td>\n",
       "    </tr>\n",
       "    <tr>\n",
       "      <th>98</th>\n",
       "      <td>55.340018</td>\n",
       "      <td>64.931938</td>\n",
       "      <td>1</td>\n",
       "    </tr>\n",
       "    <tr>\n",
       "      <th>99</th>\n",
       "      <td>74.775893</td>\n",
       "      <td>89.529813</td>\n",
       "      <td>1</td>\n",
       "    </tr>\n",
       "  </tbody>\n",
       "</table>\n",
       "</div>"
      ]
     },
     "execution_count": 3,
     "metadata": {},
     "output_type": "execute_result"
    }
   ],
   "execution_count": 3
  },
  {
   "metadata": {
    "ExecuteTime": {
     "end_time": "2024-08-12T06:15:07.189034Z",
     "start_time": "2024-08-12T06:15:06.928784Z"
    }
   },
   "cell_type": "code",
   "source": [
    "positive = data[data['Admitted'].isin([1])]\n",
    "negative = data[data['Admitted'].isin([0])]\n",
    "\n",
    "fig, ax = plt.subplots(figsize=(12,8))\n",
    "ax.scatter(positive['Exam 1'], positive['Exam 2'], s=50, c='b', marker='o', label='Admitted')\n",
    "ax.scatter(negative['Exam 1'], negative['Exam 2'], s=50, c='r', marker='x', label='Not Admitted')\n",
    "ax.legend()\n",
    "ax.set_xlabel('Exam 1 Score')\n",
    "ax.set_ylabel('Exam 2 Score')\n",
    "plt.show()"
   ],
   "id": "32ded706e66e631f",
   "outputs": [
    {
     "data": {
      "text/plain": [
       "<Figure size 1200x800 with 1 Axes>"
      ],
      "image/png": "[encoded data removed]"
     },
     "metadata": {},
     "output_type": "display_data"
    }
   ],
   "execution_count": 4
  },
  {
   "metadata": {},
   "cell_type": "markdown",
   "source": [
    "# logistic函数\n",
    "g 代表一个常用的逻辑函数（logistic function）为S形函数（Sigmoid function），公式为： $g\\left( z \\right)=\\frac{1}{1+{{e}^{-z}}}$\n",
    "合起来，我们得到逻辑回归模型的假设函数： ${{h}_{\\theta }}\\left( x \\right)=\\frac{1}{1+{{e}^{-{{\\theta }^{T}}X}}}$"
   ],
   "id": "a74091c15e1cbc77"
  },
  {
   "metadata": {
    "ExecuteTime": {
     "end_time": "2024-08-12T06:15:07.192963Z",
     "start_time": "2024-08-12T06:15:07.189034Z"
    }
   },
   "cell_type": "code",
   "source": [
    "def logistic(z):\n",
    "    return 1 / (1 + np.exp(-z))"
   ],
   "id": "81dd786377653705",
   "outputs": [],
   "execution_count": 5
  },
  {
   "metadata": {},
   "cell_type": "markdown",
   "source": "检查函数是否工作",
   "id": "ea7451c882ec96b1"
  },
  {
   "metadata": {
    "ExecuteTime": {
     "end_time": "2024-08-12T06:15:07.279905Z",
     "start_time": "2024-08-12T06:15:07.192963Z"
    }
   },
   "cell_type": "code",
   "source": [
    "x = np.arange(-5, 5, 0.1)\n",
    "\n",
    "plt.figure(figsize=(12,8))\n",
    "plt.plot(x, logistic(x))\n",
    "plt.show()"
   ],
   "id": "151656230dc9462f",
   "outputs": [
    {
     "data": {
      "text/plain": [
       "<Figure size 1200x800 with 1 Axes>"
      ],
      "image/png": "[encoded data removed]"
     },
     "metadata": {},
     "output_type": "display_data"
    }
   ],
   "execution_count": 6
  },
  {
   "metadata": {},
   "cell_type": "markdown",
   "source": [
    "# 代价函数（损失函数）\n",
    "$$J\\left( \\theta  \\right)=\\frac{1}{m}\\sum\\limits_{i=1}^{m}{[-{{y}^{(i)}}\\log \\left( {{h}_{\\theta }}\\left( {{x}^{(i)}} \\right) \\right)-\\left( 1-{{y}^{(i)}} \\right)\\log \\left( 1-{{h}_{\\theta }}\\left( {{x}^{(i)}} \\right) \\right)]}$$"
   ],
   "id": "939cd172e448e391"
  },
  {
   "metadata": {},
   "cell_type": "markdown",
   "source": [
    "# 特别注意！！！  \n",
    "\n",
    "我在写代码时遇上的小坑：\n",
    "\n",
    "1. **查看数组的形状是为了进行正确的矩阵运算**。\n",
    "2. **`matrix` 方法目前已经过时**，大多使用 `array` 方法。因为 `matrix` 是严格的二维数组，在参考代码中 `theta = np.zeros(3)` 是一维数组，但在计算时会转化成二维数组运算。如果只将 `matrix` 改为 `array`，运算结果会不对。所以在处理 `theta` 时，应该变成二维数组 `theta = np.zeros((3, 1))`。\n",
    "3. **代码中书写的 `X * theta.T` 采用的是广播机制**。如果使用 `array` 方法，则需使用矩阵乘法 `@` 或 `dot` 方法。\n",
    "4. **我们习惯将 `theta` 向量写成列向量**，并且该向量行数等于 `X` 的列数，所以在 `cost` 函数中写成 `X @ theta`，而不进行转置。"
   ],
   "id": "3fa9e87843760700"
  },
  {
   "metadata": {
    "ExecuteTime": {
     "end_time": "2024-08-12T06:15:07.285247Z",
     "start_time": "2024-08-12T06:15:07.279905Z"
    }
   },
   "cell_type": "code",
   "source": [
    "def cost(theta, X, y):\n",
    "    # 将数据转换为 NumPy 数组\n",
    "    theta = np.array(theta)\n",
    "    X = np.array(X)\n",
    "    y = np.array(y)\n",
    "    \n",
    "    # y = 1 时\n",
    "    y_1 = np.multiply(-y, np.log(logistic(X @ theta)))\n",
    "    # y = 0 时\n",
    "    y_0 = np.multiply((1 - y), np.log(1 - logistic(X @ theta)))\n",
    "    return np.sum(y_1 - y_0) / (len(X))"
   ],
   "id": "cb512e4575d08883",
   "outputs": [],
   "execution_count": 7
  },
  {
   "metadata": {},
   "cell_type": "markdown",
   "source": "检测函数是否工作",
   "id": "bfe91df1bdba6e4b"
  },
  {
   "metadata": {
    "ExecuteTime": {
     "end_time": "2024-08-12T06:15:07.296318Z",
     "start_time": "2024-08-12T06:15:07.285247Z"
    }
   },
   "cell_type": "code",
   "source": [
    "# 方便计算h_theta(x)\n",
    "data.insert(0, 'Ones', 1)\n",
    "\n",
    "cols = data.shape[1]\n",
    "X = data.iloc[:,0:cols-1]\n",
    "y = data.iloc[:,cols-1:cols]\n",
    "\n",
    "# 转换为 NumPy 数组\n",
    "X = np.array(X.values)\n",
    "y = np.array(y.values)\n",
    "theta = np.zeros((3, 1))"
   ],
   "id": "c35ce121e597a76a",
   "outputs": [],
   "execution_count": 8
  },
  {
   "metadata": {
    "ExecuteTime": {
     "end_time": "2024-08-12T06:15:07.303391Z",
     "start_time": "2024-08-12T06:15:07.296318Z"
    }
   },
   "cell_type": "code",
   "source": "theta, X.shape, theta.shape, y.shape",
   "id": "4732ab3fd164cfe5",
   "outputs": [
    {
     "data": {
      "text/plain": [
       "(array([[0.],\n",
       "        [0.],\n",
       "        [0.]]),\n",
       " (100, 3),\n",
       " (3, 1),\n",
       " (100, 1))"
      ]
     },
     "execution_count": 9,
     "metadata": {},
     "output_type": "execute_result"
    }
   ],
   "execution_count": 9
  },
  {
   "metadata": {
    "ExecuteTime": {
     "end_time": "2024-08-12T06:15:07.309749Z",
     "start_time": "2024-08-12T06:15:07.303391Z"
    }
   },
   "cell_type": "code",
   "source": "cost(theta, X, y)",
   "id": "63618d740710f555",
   "outputs": [
    {
     "data": {
      "text/plain": [
       "0.6931471805599453"
      ]
     },
     "execution_count": 10,
     "metadata": {},
     "output_type": "execute_result"
    }
   ],
   "execution_count": 10
  },
  {
   "metadata": {},
   "cell_type": "markdown",
   "source": [
    "# gradient descent(梯度下降)\n",
    "* 这是批量梯度下降（batch gradient descent）  \n",
    "* 转化为向量化计算： $\\frac{1}{m} X^T( Sigmoid(X\\theta) - y )$\n",
    "$$\\frac{\\partial J\\left( \\theta  \\right)}{\\partial {{\\theta }_{j}}}=\\frac{1}{m}\\sum\\limits_{i=1}^{m}{({{h}_{\\theta }}\\left( {{x}^{(i)}} \\right)-{{y}^{(i)}})x_{_{j}}^{(i)}}$$"
   ],
   "id": "8ec4e2db4e0ace59"
  },
  {
   "metadata": {},
   "cell_type": "markdown",
   "source": [
    "# 重点注意！！！\n",
    "\n",
    "参考代码依旧使用 `matrix` 方法，如果使用 `array` 方法必须注意以下几点：\n",
    "\n",
    "1. **维度问题**：\n",
    "   - `matrix` 强制为二维数组，因此在使用 `ravel` 方法一维展开时，结果的形状是 `(1, n)`。在这种情况下，获取 `theta` 的形状时，应该使用 `theta.ravel().shape[1]`。\n",
    "\n",
    "2. **求 `theta` 的数量**：\n",
    "   - 直接法：通过将 `theta` 展成 `(1, n)` 或 `(n, 1)` 的形式，利用方法求出结果。\n",
    "   - 间接法：`theta` 的数量等于特征量加 1，即 `X` 的列数。\n",
    "\n",
    "3. **数组维度处理**：\n",
    "   - 在 `matrix` 方法中，`term = np.multiply(error, X[:,i])` 的表达式是有效的，因为 `matrix` 是二维数组。\n",
    "   - 使用 `array` 方法时，默认情况下没有规定形状，数组会被视为一维。为了解决这个问题，可以将表达式改为 `term = np.multiply(error, X[:,i].reshape(-1, 1))`。\n",
    "\n",
    "4. **切片后的形状**：\n",
    "   - 如果一开始已经规定了 `theta` 的形状，在循环切片时得到的切片依然是一维的。此时仍需使用 `reshape` 改变形状。\n"
   ],
   "id": "f0d2c187daa6496e"
  },
  {
   "metadata": {
    "ExecuteTime": {
     "end_time": "2024-08-12T06:15:07.316597Z",
     "start_time": "2024-08-12T06:15:07.310584Z"
    }
   },
   "cell_type": "code",
   "source": [
    "def gradient(theta, X, y):\n",
    "    theta = np.array(theta)\n",
    "    X = np.array(X)\n",
    "    y = np.array(y)\n",
    "    \n",
    "    parameters = int(theta.reshape(1, -1).shape[1])\n",
    "    grad = np.zeros(parameters)\n",
    "    \n",
    "    error = logistic(X @ theta) - y\n",
    "    \n",
    "    for i in range(parameters):\n",
    "        term = np.multiply(error, X[:,i].reshape(-1,1))\n",
    "        grad[i] = np.sum(term) / len(X)\n",
    "    \n",
    "    return grad"
   ],
   "id": "f6c41a7df578e864",
   "outputs": [],
   "execution_count": 11
  },
  {
   "metadata": {
    "ExecuteTime": {
     "end_time": "2024-08-12T06:15:07.325516Z",
     "start_time": "2024-08-12T06:15:07.316597Z"
    }
   },
   "cell_type": "code",
   "source": "gradient(theta, X, y)",
   "id": "68d049bcda805509",
   "outputs": [
    {
     "data": {
      "text/plain": [
       "array([ -0.1       , -12.00921659, -11.26284221])"
      ]
     },
     "execution_count": 12,
     "metadata": {},
     "output_type": "execute_result"
    }
   ],
   "execution_count": 12
  },
  {
   "metadata": {},
   "cell_type": "markdown",
   "source": "现在可以用SciPy's truncated newton（TNC）实现寻找最优参数。因为上方的梯度下降函数和代价函数根据参考代码相对实现的比较复杂并且目前存在一些错误，本人尽快会解决（2024.8.11），所以目前使用下方重写的函数。",
   "id": "9f704daa70d98d47"
  },
  {
   "metadata": {
    "ExecuteTime": {
     "end_time": "2024-08-12T06:15:07.332131Z",
     "start_time": "2024-08-12T06:15:07.325516Z"
    }
   },
   "cell_type": "code",
   "source": [
    "def newcost(theta, X, y):\n",
    "    theta = np.array(theta)\n",
    "    X = np.array(X)\n",
    "    y = np.array(y)\n",
    "\n",
    "    h = logistic(X @ theta)\n",
    "    return -np.mean(y * np.log(h) + (1 - y) * np.log(1 - h))\n",
    "\n",
    "\n",
    "def newgradient(theta, X, y):\n",
    "    theta = np.array(theta)\n",
    "    X = np.array(X)\n",
    "    y = np.array(y)\n",
    "\n",
    "    error = logistic(X @ theta) - y\n",
    "    return (X.T @ error) / len(X)"
   ],
   "id": "368214c92ec54c3",
   "outputs": [],
   "execution_count": 13
  },
  {
   "metadata": {},
   "cell_type": "markdown",
   "source": [
    "计算结果的含义  \n",
    "1、[-25.16131865,   0.20623159,   0.20147149]表示theta  \n",
    "2、36表示迭代次数，也叫函数评估次数  \n",
    "3、0是状态代码，表示优化成功，其他的值也对应其他的状态，比如遇到奇异矩阵"
   ],
   "id": "bd0f2ee1acb92bce"
  },
  {
   "metadata": {
    "ExecuteTime": {
     "end_time": "2024-08-12T06:15:07.723036Z",
     "start_time": "2024-08-12T06:15:07.332131Z"
    }
   },
   "cell_type": "code",
   "source": [
    "import scipy.optimize as opt\n",
    "\n",
    "# y得展平才能使用该方法\n",
    "Y = y.flatten()\n",
    "result = opt.fmin_tnc(func=newcost, x0=theta, fprime=newgradient, args=(X, Y))\n",
    "result"
   ],
   "id": "9c0372b85d439f06",
   "outputs": [
    {
     "data": {
      "text/plain": [
       "(array([-25.16131865,   0.20623159,   0.20147149]), 36, 0)"
      ]
     },
     "execution_count": 14,
     "metadata": {},
     "output_type": "execute_result"
    }
   ],
   "execution_count": 14
  },
  {
   "metadata": {},
   "cell_type": "markdown",
   "source": "在这个结论下代价函数计算结果",
   "id": "701334e1f612e107"
  },
  {
   "metadata": {
    "ExecuteTime": {
     "end_time": "2024-08-12T06:15:07.728901Z",
     "start_time": "2024-08-12T06:15:07.723036Z"
    }
   },
   "cell_type": "code",
   "source": "newcost(result[0], X, Y)",
   "id": "2190dc8f41cb4f7f",
   "outputs": [
    {
     "data": {
      "text/plain": [
       "0.2034977015894745"
      ]
     },
     "execution_count": 15,
     "metadata": {},
     "output_type": "execute_result"
    }
   ],
   "execution_count": 15
  },
  {
   "metadata": {},
   "cell_type": "markdown",
   "source": [
    "接下来，我们需要编写一个函数，用我们所学的参数theta来为数据集X输出预测。然后，我们可以使用这个函数来给我们的分类器的训练精度打分。\n",
    "逻辑回归模型的假设函数： \n",
    "\t$${{h}_{\\theta }}\\left( x \\right)=\\frac{1}{1+{{e}^{-{{\\theta }^{T}}X}}}$$\n",
    "当${{h}_{\\theta }}$大于等于0.5时，预测 y=1\n",
    "\n",
    "当${{h}_{\\theta }}$小于0.5时，预测 y=0 。"
   ],
   "id": "688b350a5fdffac8"
  },
  {
   "metadata": {
    "ExecuteTime": {
     "end_time": "2024-08-12T06:15:07.733946Z",
     "start_time": "2024-08-12T06:15:07.728901Z"
    }
   },
   "cell_type": "code",
   "source": [
    "def predict(theta, X):\n",
    "    probability = logistic(X @ theta)\n",
    "    return [1 if x >= 0.5 else 0 for x in probability]"
   ],
   "id": "9ac567f58701498a",
   "outputs": [],
   "execution_count": 16
  },
  {
   "metadata": {
    "ExecuteTime": {
     "end_time": "2024-08-12T06:15:07.740163Z",
     "start_time": "2024-08-12T06:15:07.733946Z"
    }
   },
   "cell_type": "code",
   "source": [
    "theta_min = np.array(result[0]).reshape((3, 1))\n",
    "predictions = predict(theta_min, X)\n",
    "correct = [1 if ((a == 1 and b == 1) or (a == 0 and b == 0)) else 0 for (a, b) in zip(predictions, y)]\n",
    "accuracy = (sum(map(int, correct)) % len(correct))\n",
    "print ('accuracy = {0}%'.format(accuracy))"
   ],
   "id": "5d4fbb010172092",
   "outputs": [
    {
     "name": "stdout",
     "output_type": "stream",
     "text": [
      "accuracy = 89%\n"
     ]
    }
   ],
   "execution_count": 17
  }
 ],
 "metadata": {
  "kernelspec": {
   "display_name": "Python 3",
   "language": "python",
   "name": "python3"
  },
  "language_info": {
   "codemirror_mode": {
    "name": "ipython",
    "version": 2
   },
   "file_extension": ".py",
   "mimetype": "text/x-python",
   "name": "python",
   "nbconvert_exporter": "python",
   "pygments_lexer": "ipython2",
   "version": "2.7.6"
  }
 },
 "nbformat": 4,
 "nbformat_minor": 5
}
