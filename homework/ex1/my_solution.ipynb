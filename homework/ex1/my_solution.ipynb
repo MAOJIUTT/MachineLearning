{
 "cells": [
  {
   "metadata": {},
   "cell_type": "markdown",
   "source": [
    "# 单变量线性回归\n",
    "## 1、可视化数据"
   ],
   "id": "a144fc9d2fc6cc24"
  },
  {
   "metadata": {},
   "cell_type": "markdown",
   "source": "读取数据",
   "id": "3c4a6f9c6e475918"
  },
  {
   "metadata": {
    "ExecuteTime": {
     "end_time": "2024-08-05T06:02:26.007249Z",
     "start_time": "2024-08-05T06:02:25.456574Z"
    }
   },
   "cell_type": "code",
   "source": [
    "import pandas as pd\n",
    "\n",
    "path = 'ex1data1.txt'\n",
    "\n",
    "# header代表标题行，为None时代表无标题行，为0则代表第一行为标题行\n",
    "data = pd.read_csv(path, header=None, names=['Population', 'Profit'])\n",
    "\n",
    "data.head()"
   ],
   "id": "e9d3c3633c8f41fc",
   "outputs": [
    {
     "data": {
      "text/plain": [
       "   Population   Profit\n",
       "0      6.1101  17.5920\n",
       "1      5.5277   9.1302\n",
       "2      8.5186  13.6620\n",
       "3      7.0032  11.8540\n",
       "4      5.8598   6.8233"
      ],
      "text/html": [
       "<div>\n",
       "<style scoped>\n",
       "    .dataframe tbody tr th:only-of-type {\n",
       "        vertical-align: middle;\n",
       "    }\n",
       "\n",
       "    .dataframe tbody tr th {\n",
       "        vertical-align: top;\n",
       "    }\n",
       "\n",
       "    .dataframe thead th {\n",
       "        text-align: right;\n",
       "    }\n",
       "</style>\n",
       "<table border=\"1\" class=\"dataframe\">\n",
       "  <thead>\n",
       "    <tr style=\"text-align: right;\">\n",
       "      <th></th>\n",
       "      <th>Population</th>\n",
       "      <th>Profit</th>\n",
       "    </tr>\n",
       "  </thead>\n",
       "  <tbody>\n",
       "    <tr>\n",
       "      <th>0</th>\n",
       "      <td>6.1101</td>\n",
       "      <td>17.5920</td>\n",
       "    </tr>\n",
       "    <tr>\n",
       "      <th>1</th>\n",
       "      <td>5.5277</td>\n",
       "      <td>9.1302</td>\n",
       "    </tr>\n",
       "    <tr>\n",
       "      <th>2</th>\n",
       "      <td>8.5186</td>\n",
       "      <td>13.6620</td>\n",
       "    </tr>\n",
       "    <tr>\n",
       "      <th>3</th>\n",
       "      <td>7.0032</td>\n",
       "      <td>11.8540</td>\n",
       "    </tr>\n",
       "    <tr>\n",
       "      <th>4</th>\n",
       "      <td>5.8598</td>\n",
       "      <td>6.8233</td>\n",
       "    </tr>\n",
       "  </tbody>\n",
       "</table>\n",
       "</div>"
      ]
     },
     "execution_count": 3,
     "metadata": {},
     "output_type": "execute_result"
    }
   ],
   "execution_count": 3
  },
  {
   "metadata": {
    "ExecuteTime": {
     "end_time": "2024-08-05T06:02:26.018609Z",
     "start_time": "2024-08-05T06:02:26.007309Z"
    }
   },
   "cell_type": "code",
   "source": "data.describe()",
   "id": "191b188b58bb2428",
   "outputs": [
    {
     "data": {
      "text/plain": [
       "       Population     Profit\n",
       "count   97.000000  97.000000\n",
       "mean     8.159800   5.839135\n",
       "std      3.869884   5.510262\n",
       "min      5.026900  -2.680700\n",
       "25%      5.707700   1.986900\n",
       "50%      6.589400   4.562300\n",
       "75%      8.578100   7.046700\n",
       "max     22.203000  24.147000"
      ],
      "text/html": [
       "<div>\n",
       "<style scoped>\n",
       "    .dataframe tbody tr th:only-of-type {\n",
       "        vertical-align: middle;\n",
       "    }\n",
       "\n",
       "    .dataframe tbody tr th {\n",
       "        vertical-align: top;\n",
       "    }\n",
       "\n",
       "    .dataframe thead th {\n",
       "        text-align: right;\n",
       "    }\n",
       "</style>\n",
       "<table border=\"1\" class=\"dataframe\">\n",
       "  <thead>\n",
       "    <tr style=\"text-align: right;\">\n",
       "      <th></th>\n",
       "      <th>Population</th>\n",
       "      <th>Profit</th>\n",
       "    </tr>\n",
       "  </thead>\n",
       "  <tbody>\n",
       "    <tr>\n",
       "      <th>count</th>\n",
       "      <td>97.000000</td>\n",
       "      <td>97.000000</td>\n",
       "    </tr>\n",
       "    <tr>\n",
       "      <th>mean</th>\n",
       "      <td>8.159800</td>\n",
       "      <td>5.839135</td>\n",
       "    </tr>\n",
       "    <tr>\n",
       "      <th>std</th>\n",
       "      <td>3.869884</td>\n",
       "      <td>5.510262</td>\n",
       "    </tr>\n",
       "    <tr>\n",
       "      <th>min</th>\n",
       "      <td>5.026900</td>\n",
       "      <td>-2.680700</td>\n",
       "    </tr>\n",
       "    <tr>\n",
       "      <th>25%</th>\n",
       "      <td>5.707700</td>\n",
       "      <td>1.986900</td>\n",
       "    </tr>\n",
       "    <tr>\n",
       "      <th>50%</th>\n",
       "      <td>6.589400</td>\n",
       "      <td>4.562300</td>\n",
       "    </tr>\n",
       "    <tr>\n",
       "      <th>75%</th>\n",
       "      <td>8.578100</td>\n",
       "      <td>7.046700</td>\n",
       "    </tr>\n",
       "    <tr>\n",
       "      <th>max</th>\n",
       "      <td>22.203000</td>\n",
       "      <td>24.147000</td>\n",
       "    </tr>\n",
       "  </tbody>\n",
       "</table>\n",
       "</div>"
      ]
     },
     "execution_count": 4,
     "metadata": {},
     "output_type": "execute_result"
    }
   ],
   "execution_count": 4
  },
  {
   "metadata": {},
   "cell_type": "markdown",
   "source": "可视化",
   "id": "73fe7fcb39b6fc76"
  },
  {
   "metadata": {
    "ExecuteTime": {
     "end_time": "2024-08-05T06:02:26.619098Z",
     "start_time": "2024-08-05T06:02:26.018609Z"
    }
   },
   "cell_type": "code",
   "source": [
    "from matplotlib import pyplot as plt\n",
    "\n",
    "data.plot(kind='scatter', x='Population', y='Profit', figsize=(10, 6))\n",
    "plt.show()"
   ],
   "id": "d9608d1447d1a71c",
   "outputs": [
    {
     "data": {
      "text/plain": [
       "<Figure size 1000x600 with 1 Axes>"
      ],
      "image/png": "[encoded data removed]"
     },
     "metadata": {},
     "output_type": "display_data"
    }
   ],
   "execution_count": 5
  },
  {
   "metadata": {},
   "cell_type": "markdown",
   "source": [
    "## 2、梯度下降\n",
    "首先，我们将创建一个以参数θ为特征函数的代价函数\n",
    "$$J\\left( \\theta  \\right)=\\frac{1}{2m}\\sum\\limits_{i=1}^{m}{{{\\left( {{h}_{\\theta }}\\left( {{x}^{(i)}} \\right)-{{y}^{(i)}} \\right)}^{2}}}$$\n",
    "其中：$$\\\\{{h}_{\\theta }}\\left( x \\right)={{\\theta }^{T}}X={{\\theta }_{0}}{{x}_{0}}+{{\\theta }_{1}}{{x}_{1}}+{{\\theta }_{2}}{{x}_{2}}+...+{{\\theta }_{n}}{{x}_{n}}$$"
   ],
   "id": "d251d0b470413a77"
  },
  {
   "metadata": {
    "ExecuteTime": {
     "end_time": "2024-08-05T06:02:26.624098Z",
     "start_time": "2024-08-05T06:02:26.619098Z"
    }
   },
   "cell_type": "code",
   "source": [
    "import numpy as np\n",
    "\n",
    "def computeCost(X, y, theta):\n",
    "    J = np.power(((X * theta.T) - y), 2)\n",
    "    return np.sum(J) / (2 * len(X))"
   ],
   "id": "8ae14477b3f8d1b0",
   "outputs": [],
   "execution_count": 6
  },
  {
   "metadata": {},
   "cell_type": "markdown",
   "source": [
    "由于我们现在研究的是单变量线性，所以：\n",
    "$$\\\\{{h}_{\\theta }}\\left( x \\right)={{\\theta }^{T}}X={{\\theta }_{0}}+{{\\theta }_{1}}{{x}_{1}}$$\n",
    "现在已知X，y，要得到假设函数的形式，我们需要将${\\theta }$和X视为矩阵，方便计算结果"
   ],
   "id": "e644693e318233f5"
  },
  {
   "metadata": {
    "ExecuteTime": {
     "end_time": "2024-08-05T06:02:26.629738Z",
     "start_time": "2024-08-05T06:02:26.624098Z"
    }
   },
   "cell_type": "code",
   "source": "data.insert(0,'ones',1)",
   "id": "d6a959ea48594332",
   "outputs": [],
   "execution_count": 7
  },
  {
   "metadata": {},
   "cell_type": "markdown",
   "source": "查看data的一些信息",
   "id": "228c4d2b4a4343"
  },
  {
   "metadata": {
    "ExecuteTime": {
     "end_time": "2024-08-05T06:02:26.635065Z",
     "start_time": "2024-08-05T06:02:26.629738Z"
    }
   },
   "cell_type": "code",
   "source": [
    "print(data.shape)\n",
    "print(data.shape[1])"
   ],
   "id": "4ef2d5a279ce626d",
   "outputs": [
    {
     "name": "stdout",
     "output_type": "stream",
     "text": [
      "(97, 3)\n",
      "3\n"
     ]
    }
   ],
   "execution_count": 8
  },
  {
   "metadata": {},
   "cell_type": "markdown",
   "source": "变量初始化",
   "id": "21f7fa65751ac591"
  },
  {
   "metadata": {
    "ExecuteTime": {
     "end_time": "2024-08-05T06:02:26.641419Z",
     "start_time": "2024-08-05T06:02:26.635065Z"
    }
   },
   "cell_type": "code",
   "source": [
    "cols = data.shape[1]            # cols=3\n",
    "X = data.iloc[:, 0:cols-1]      # X代表选取所有行，并且0~2列（2不取）\n",
    "y = data.iloc[:, cols-1:cols]   # y代表选取所有行，并且2~3列（3不取）"
   ],
   "id": "19da2ed777de0194",
   "outputs": [],
   "execution_count": 9
  },
  {
   "metadata": {
    "ExecuteTime": {
     "end_time": "2024-08-05T06:02:26.649338Z",
     "start_time": "2024-08-05T06:02:26.641419Z"
    }
   },
   "cell_type": "code",
   "source": "X.head()",
   "id": "b63995a5ee554acc",
   "outputs": [
    {
     "data": {
      "text/plain": [
       "   ones  Population\n",
       "0     1      6.1101\n",
       "1     1      5.5277\n",
       "2     1      8.5186\n",
       "3     1      7.0032\n",
       "4     1      5.8598"
      ],
      "text/html": [
       "<div>\n",
       "<style scoped>\n",
       "    .dataframe tbody tr th:only-of-type {\n",
       "        vertical-align: middle;\n",
       "    }\n",
       "\n",
       "    .dataframe tbody tr th {\n",
       "        vertical-align: top;\n",
       "    }\n",
       "\n",
       "    .dataframe thead th {\n",
       "        text-align: right;\n",
       "    }\n",
       "</style>\n",
       "<table border=\"1\" class=\"dataframe\">\n",
       "  <thead>\n",
       "    <tr style=\"text-align: right;\">\n",
       "      <th></th>\n",
       "      <th>ones</th>\n",
       "      <th>Population</th>\n",
       "    </tr>\n",
       "  </thead>\n",
       "  <tbody>\n",
       "    <tr>\n",
       "      <th>0</th>\n",
       "      <td>1</td>\n",
       "      <td>6.1101</td>\n",
       "    </tr>\n",
       "    <tr>\n",
       "      <th>1</th>\n",
       "      <td>1</td>\n",
       "      <td>5.5277</td>\n",
       "    </tr>\n",
       "    <tr>\n",
       "      <th>2</th>\n",
       "      <td>1</td>\n",
       "      <td>8.5186</td>\n",
       "    </tr>\n",
       "    <tr>\n",
       "      <th>3</th>\n",
       "      <td>1</td>\n",
       "      <td>7.0032</td>\n",
       "    </tr>\n",
       "    <tr>\n",
       "      <th>4</th>\n",
       "      <td>1</td>\n",
       "      <td>5.8598</td>\n",
       "    </tr>\n",
       "  </tbody>\n",
       "</table>\n",
       "</div>"
      ]
     },
     "execution_count": 10,
     "metadata": {},
     "output_type": "execute_result"
    }
   ],
   "execution_count": 10
  },
  {
   "metadata": {
    "ExecuteTime": {
     "end_time": "2024-08-05T06:02:26.656053Z",
     "start_time": "2024-08-05T06:02:26.649338Z"
    }
   },
   "cell_type": "code",
   "source": "y.head()",
   "id": "11f4bcdd020f0394",
   "outputs": [
    {
     "data": {
      "text/plain": [
       "    Profit\n",
       "0  17.5920\n",
       "1   9.1302\n",
       "2  13.6620\n",
       "3  11.8540\n",
       "4   6.8233"
      ],
      "text/html": [
       "<div>\n",
       "<style scoped>\n",
       "    .dataframe tbody tr th:only-of-type {\n",
       "        vertical-align: middle;\n",
       "    }\n",
       "\n",
       "    .dataframe tbody tr th {\n",
       "        vertical-align: top;\n",
       "    }\n",
       "\n",
       "    .dataframe thead th {\n",
       "        text-align: right;\n",
       "    }\n",
       "</style>\n",
       "<table border=\"1\" class=\"dataframe\">\n",
       "  <thead>\n",
       "    <tr style=\"text-align: right;\">\n",
       "      <th></th>\n",
       "      <th>Profit</th>\n",
       "    </tr>\n",
       "  </thead>\n",
       "  <tbody>\n",
       "    <tr>\n",
       "      <th>0</th>\n",
       "      <td>17.5920</td>\n",
       "    </tr>\n",
       "    <tr>\n",
       "      <th>1</th>\n",
       "      <td>9.1302</td>\n",
       "    </tr>\n",
       "    <tr>\n",
       "      <th>2</th>\n",
       "      <td>13.6620</td>\n",
       "    </tr>\n",
       "    <tr>\n",
       "      <th>3</th>\n",
       "      <td>11.8540</td>\n",
       "    </tr>\n",
       "    <tr>\n",
       "      <th>4</th>\n",
       "      <td>6.8233</td>\n",
       "    </tr>\n",
       "  </tbody>\n",
       "</table>\n",
       "</div>"
      ]
     },
     "execution_count": 11,
     "metadata": {},
     "output_type": "execute_result"
    }
   ],
   "execution_count": 11
  },
  {
   "metadata": {},
   "cell_type": "markdown",
   "source": "代价函数是应该是numpy矩阵，所以我们需要转换X和Y，然后才能使用它们。 我们还需要初始化theta。",
   "id": "d71491790e46043c"
  },
  {
   "metadata": {
    "ExecuteTime": {
     "end_time": "2024-08-05T06:02:26.662127Z",
     "start_time": "2024-08-05T06:02:26.656053Z"
    }
   },
   "cell_type": "code",
   "source": [
    "X = np.matrix(X.values)\n",
    "y = np.matrix(y.values)\n",
    "theta = np.matrix(np.zeros((1, 2)))\n",
    "theta"
   ],
   "id": "72fb7c5cdcccd35c",
   "outputs": [
    {
     "data": {
      "text/plain": [
       "matrix([[0., 0.]])"
      ]
     },
     "execution_count": 12,
     "metadata": {},
     "output_type": "execute_result"
    }
   ],
   "execution_count": 12
  },
  {
   "metadata": {
    "ExecuteTime": {
     "end_time": "2024-08-05T06:02:26.667469Z",
     "start_time": "2024-08-05T06:02:26.662127Z"
    }
   },
   "cell_type": "code",
   "source": [
    "# 查看维度\n",
    "X.shape, theta.shape, y.shape"
   ],
   "id": "e8bb74cdd656d90b",
   "outputs": [
    {
     "data": {
      "text/plain": [
       "((97, 2), (1, 2), (97, 1))"
      ]
     },
     "execution_count": 13,
     "metadata": {},
     "output_type": "execute_result"
    }
   ],
   "execution_count": 13
  },
  {
   "metadata": {
    "ExecuteTime": {
     "end_time": "2024-08-05T06:02:26.673683Z",
     "start_time": "2024-08-05T06:02:26.667469Z"
    }
   },
   "cell_type": "code",
   "source": [
    "# 计算代价函数\n",
    "computeCost(X, y, theta)"
   ],
   "id": "db6ead1a04122ce0",
   "outputs": [
    {
     "data": {
      "text/plain": [
       "32.072733877455676"
      ]
     },
     "execution_count": 14,
     "metadata": {},
     "output_type": "execute_result"
    }
   ],
   "execution_count": 14
  },
  {
   "metadata": {},
   "cell_type": "markdown",
   "source": [
    "# batch gradient decent（批量梯度下降）\n",
    "梯度下降：\n",
    "$${{\\theta }_{j}}:={{\\theta }_{j}}-\\alpha \\frac{\\partial }{\\partial {{\\theta }_{j}}}J\\left( \\theta  \\right)$$\n",
    "假设函数：\n",
    "$$\\\\{{h}_{\\theta }}\\left( x \\right)={{\\theta }^{T}}X$$\n",
    "损失（误差）：\n",
    "$${loss}:={{{{{h}_{\\theta }}\\left( {{x}^{(i)}} \\right)-{{y}^{(i)}}}}}$$"
   ],
   "id": "5091b3b699e35099"
  },
  {
   "metadata": {},
   "cell_type": "markdown",
   "source": [
    "# 公式推导过程\n",
    "假设目标函数 $\\( J(\\theta) \\)$ 是线性回归的均方误差：\n",
    "\n",
    "$$ J(\\theta) = \\frac{1}{2m} \\sum_{i=1}^{m} \\left( h_\\theta(x^{(i)}) - y^{(i)} \\right)^2 $$\n",
    "\n",
    "其中：\n",
    "- $\\( m \\)$ 是样本的数量。\n",
    "- $\\( h_\\theta(x) \\)$ 是线性回归模型的预测输出，一般形式为 $\\( h_\\theta(x) = \\theta^T x \\)$。\n",
    "- $\\( y^{(i)} \\)$ 是样本 $\\( i \\)$ 的实际值。\n",
    "\n",
    "对目标函数 $\\( J(\\theta) \\)$ 进行偏导数求解：\n",
    "\n",
    "$$ \\frac{\\partial J(\\theta)}{\\partial \\theta_j} = \\frac{\\partial}{\\partial \\theta_j} \\left( \\frac{1}{2m} \\sum_{i=1}^{m} \\left( h_\\theta(x^{(i)}) - y^{(i)} \\right)^2 \\right) $$\n",
    "\n",
    "1. 对内部的平方项求导：\n",
    "\n",
    "$$ \\frac{\\partial}{\\partial \\theta_j} \\left( h_\\theta(x^{(i)}) - y^{(i)} \\right)^2 = 2 \\left( h_\\theta(x^{(i)}) - y^{(i)} \\right) \\cdot \\frac{\\partial}{\\partial \\theta_j} \\left( h_\\theta(x^{(i)}) - y^{(i)} \\right) $$\n",
    "\n",
    "2. 对预测函数 $\\( h_\\theta(x) \\)$ 求导：\n",
    "\n",
    "$$ \\frac{\\partial}{\\partial \\theta_j} h_\\theta(x^{(i)}) = \\frac{\\partial}{\\partial \\theta_j} (\\theta_0 + \\theta_1 x_1^{(i)} + \\theta_2 x_2^{(i)} + \\cdots + \\theta_n x_n^{(i)}) = x_j^{(i)} $$\n",
    "\n",
    "3. 将这两个结果代入：\n",
    "\n",
    "$$ \\frac{\\partial J(\\theta)}{\\partial \\theta_j} = \\frac{1}{2m} \\sum_{i=1}^{m} 2 \\left( h_\\theta(x^{(i)}) - y^{(i)} \\right) \\cdot x_j^{(i)} $$\n",
    "\n",
    "4. 化简结果：\n",
    "\n",
    "$$ \\frac{\\partial J(\\theta)}{\\partial \\theta_j} = \\frac{1}{m} \\sum_{i=1}^{m} \\left( h_\\theta(x^{(i)}) - y^{(i)} \\right) x_j^{(i)} $$\n",
    "\n",
    "将这个结果代入梯度下降的更新规则：\n",
    "\n",
    "$$ \\theta_j := \\theta_j - \\alpha \\frac{\\partial J(\\theta)}{\\partial \\theta_j} $$\n",
    "\n",
    "具体表达为：\n",
    "\n",
    "$$ \\theta_j := \\theta_j - \\alpha \\cdot \\frac{1}{m} \\sum_{i=1}^{m} \\left( h_\\theta(x^{(i)}) - y^{(i)} \\right) x_j^{(i)} $$\n"
   ],
   "id": "1fdd5f0be91f467f"
  },
  {
   "metadata": {
    "ExecuteTime": {
     "end_time": "2024-08-05T06:02:26.683363Z",
     "start_time": "2024-08-05T06:02:26.674689Z"
    }
   },
   "cell_type": "code",
   "source": [
    "def batchGradientDescent(X, y, theta, alpha, iterations):\n",
    "    # 创建一个与 theta 形状相同的零矩阵\n",
    "    temp = np.matrix(np.zeros(theta.shape))\n",
    "    # 获取 theta 的参数数量\n",
    "    parameters = int(theta.ravel().shape[1])\n",
    "    # 初始化一个用于存储迭代次数的成本数组\n",
    "    cost = np.zeros(iterations)\n",
    "    \n",
    "    \n",
    "    for i in range(iterations):\n",
    "        loss = (X * theta.T) - y\n",
    "        \n",
    "        # 遍历所有参数，并更新\n",
    "        for j in range(parameters):\n",
    "            # 偏导数的一部分\n",
    "            term = np.multiply(loss, X[:,j])\n",
    "            # 更新theta\n",
    "            temp[0,j] = theta[0,j] - ((alpha / len(X)) * np.sum(term))\n",
    "            \n",
    "        theta = temp\n",
    "        cost[i] = computeCost(X, y, theta)\n",
    "        \n",
    "    return theta, cost"
   ],
   "id": "1feef336db10070d",
   "outputs": [],
   "execution_count": 15
  },
  {
   "metadata": {
    "ExecuteTime": {
     "end_time": "2024-08-05T06:02:26.688561Z",
     "start_time": "2024-08-05T06:02:26.683363Z"
    }
   },
   "cell_type": "code",
   "source": [
    "alpha = 0.01\n",
    "iterations = 1000"
   ],
   "id": "6d67a62f8d308411",
   "outputs": [],
   "execution_count": 16
  },
  {
   "metadata": {
    "ExecuteTime": {
     "end_time": "2024-08-05T06:02:26.745193Z",
     "start_time": "2024-08-05T06:02:26.688561Z"
    }
   },
   "cell_type": "code",
   "source": [
    "result_theta, cost = batchGradientDescent(X, y, theta, alpha, iterations)\n",
    "result_theta"
   ],
   "id": "24ae2b62623c76cb",
   "outputs": [
    {
     "data": {
      "text/plain": [
       "matrix([[-3.24140214,  1.1272942 ]])"
      ]
     },
     "execution_count": 17,
     "metadata": {},
     "output_type": "execute_result"
    }
   ],
   "execution_count": 17
  },
  {
   "metadata": {
    "ExecuteTime": {
     "end_time": "2024-08-05T06:21:23.847322Z",
     "start_time": "2024-08-05T06:21:23.733218Z"
    }
   },
   "cell_type": "code",
   "source": [
    "# 由于已经知道了拟合函数的参数result_theta，所以只需要生成x的值然后带入得到函数值，最后将其传入生成图像\n",
    "\n",
    "# 在一个范围内生成均匀分布的数组\n",
    "x = np.linspace(data.Population.min(), data.Population.max(), 100)\n",
    "fitting_function = result_theta[0, 0] + (result_theta[0, 1] * x)\n",
    "\n",
    "# plt.subplots创建子图，子图允许在同一图表窗口中显示多个图形\n",
    "# fig代表整个图表，ax代表子图，一般只对ax进行操作，因为fig可以看作全局设置\n",
    "fig, ax = plt.subplots(figsize=(12,8))\n",
    "ax.plot(x, fitting_function, 'r', label='Prediction')\n",
    "ax.scatter(data.Population, data.Profit, label='Traning Data')\n",
    "ax.legend(loc=2)\n",
    "\n",
    "# 在多图设置时，也就是存在子图时，最好使用set_xlabel，set_title等\n",
    "ax.set_xlabel('Population')\n",
    "ax.set_ylabel('Profit')\n",
    "ax.set_title('Predicted Profit and Population Size')\n",
    "plt.show()"
   ],
   "id": "d359ede17e98b04",
   "outputs": [
    {
     "data": {
      "text/plain": [
       "<Figure size 1200x800 with 1 Axes>"
      ],
      "image/png": "[encoded data removed]"
     },
     "metadata": {},
     "output_type": "display_data"
    }
   ],
   "execution_count": 18
  },
  {
   "metadata": {},
   "cell_type": "markdown",
   "source": "上方只利用了梯度下降返回的result_theta，还有cost没有利用，所以接下来我们绘制代价函数图像(因为cost没有拟合，所以数据就是图像线条，不需要画散点图)",
   "id": "6fd89b01562a13b5"
  },
  {
   "metadata": {
    "ExecuteTime": {
     "end_time": "2024-08-05T06:35:30.528742Z",
     "start_time": "2024-08-05T06:35:30.444008Z"
    }
   },
   "cell_type": "code",
   "source": [
    "fig, ax = plt.subplots(figsize=(12,8))\n",
    "ax.plot(np.arange(iterations), cost, 'r')\n",
    "ax.set_xlabel('Iterations')\n",
    "ax.set_ylabel('Cost')\n",
    "ax.set_title('Error vs. Training Epoch')\n",
    "plt.show()"
   ],
   "id": "eb84e300315e4a56",
   "outputs": [
    {
     "data": {
      "text/plain": [
       "<Figure size 1200x800 with 1 Axes>"
      ],
      "image/png": "[encoded data removed]"
     },
     "metadata": {},
     "output_type": "display_data"
    }
   ],
   "execution_count": 19
  }
 ],
 "metadata": {
  "kernelspec": {
   "display_name": "Python 3",
   "language": "python",
   "name": "python3"
  },
  "language_info": {
   "codemirror_mode": {
    "name": "ipython",
    "version": 2
   },
   "file_extension": ".py",
   "mimetype": "text/x-python",
   "name": "python",
   "nbconvert_exporter": "python",
   "pygments_lexer": "ipython2",
   "version": "2.7.6"
  }
 },
 "nbformat": 4,
 "nbformat_minor": 5
}
