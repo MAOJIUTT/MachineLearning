{
 "cells": [
  {
   "cell_type": "code",
   "id": "initial_id",
   "metadata": {
    "collapsed": true,
    "ExecuteTime": {
     "end_time": "2024-08-15T01:25:10.192552Z",
     "start_time": "2024-08-15T01:25:09.746084Z"
    }
   },
   "source": [
    "import operator\n",
    "\n",
    "from matplotlib import pyplot as plt\n",
    "from numpy import *"
   ],
   "outputs": [],
   "execution_count": 1
  },
  {
   "metadata": {
    "ExecuteTime": {
     "end_time": "2024-08-15T01:25:10.197161Z",
     "start_time": "2024-08-15T01:25:10.192552Z"
    }
   },
   "cell_type": "code",
   "source": [
    "def creatDataSet():\n",
    "    group = array([[1.0, 1.1], [1.0, 1.0], [0, 0], [0, 0.1]])\n",
    "    labels = ['A', 'A', 'B', 'B']\n",
    "    return group, labels"
   ],
   "id": "9512ea86580b9135",
   "outputs": [],
   "execution_count": 2
  },
  {
   "metadata": {
    "ExecuteTime": {
     "end_time": "2024-08-15T01:25:10.294886Z",
     "start_time": "2024-08-15T01:25:10.197161Z"
    }
   },
   "cell_type": "code",
   "source": "group, labels = creatDataSet()",
   "id": "2995fc5f11109fde",
   "outputs": [],
   "execution_count": 3
  },
  {
   "metadata": {
    "ExecuteTime": {
     "end_time": "2024-08-15T01:25:10.524765Z",
     "start_time": "2024-08-15T01:25:10.295891Z"
    }
   },
   "cell_type": "code",
   "source": [
    "x1 = group[:, :1]\n",
    "x2 = group[:, 1:]\n",
    "\n",
    "fig, ax = plt.subplots(figsize=(4, 3))\n",
    "ax.scatter(x1, x2)\n",
    "plt.show()"
   ],
   "id": "fdd946ab316c9bc6",
   "outputs": [
    {
     "data": {
      "text/plain": [
       "<Figure size 400x300 with 1 Axes>"
      ],
      "image/png": "[encoded data removed]"
     },
     "metadata": {},
     "output_type": "display_data"
    }
   ],
   "execution_count": 4
  },
  {
   "metadata": {},
   "cell_type": "markdown",
   "source": [
    "# K-近邻算法（K-Nearest Neighbors, KNN）\n",
    "\n",
    "K-近邻算法是一种常用于分类和回归的非参数算法。它的基本思想是给定一个待分类的样本，找到距离该样本最近的K个训练样本点，根据这K个样本的类别进行投票决定待分类样本的类别。\n",
    "\n",
    "## 1. 数学推导\n",
    "\n",
    "假设有一个训练集 $\\( \\mathcal{D} = \\{(\\mathbf{x}_1, y_1), (\\mathbf{x}_2, y_2), \\dots, (\\mathbf{x}_N, y_N)\\} \\)$，其中 $\\( \\mathbf{x}_i \\)$ 表示第 $\\(i\\)$ 个样本的特征向量， $\\( y_i \\)$ 表示该样本的标签。\n",
    "\n",
    "给定一个待分类的样本 $\\( \\mathbf{x} \\)$，KNN算法的步骤如下：\n",
    "\n",
    "### 1.1 计算距离\n",
    "\n",
    "对于待分类样本 $\\( \\mathbf{x} \\)$ 和每个训练样本 $\\( \\mathbf{x}_i \\)$，计算它们之间的距离，这个距离是一个特征向量与每一个训练向量的距离，然后再计算求和。常用的距离度量包括欧氏距离、曼哈顿距离等。以欧氏距离为例：\n",
    "\n",
    "$\\[\n",
    "d(\\mathbf{x}, \\mathbf{x}_i) = \\sqrt{\\sum_{j=1}^{m} (x_j - x_{ij})^2}\n",
    "\\]$\n",
    "\n",
    "其中，$\\( \\mathbf{x} = (x_1, x_2, \\dots, x_m) \\)$，$\\( \\mathbf{x}_i = (x_{i1}, x_{i2}, \\dots, x_{im}) \\)$。\n",
    "\n",
    "### 1.2 选择最近的K个邻居\n",
    "\n",
    "根据计算出的距离，选择距离最近的K个训练样本点，记为 $\\( \\mathcal{N}_K(\\mathbf{x}) \\)$。\n",
    "\n",
    "### 1.3 分类决策\n",
    "\n",
    "对于分类任务，KNN算法通过对这K个邻居的类别进行投票，选择得票数最多的类别作为待分类样本 $\\( \\mathbf{x} \\)$ 的类别：\n",
    "\n",
    "$\\[\n",
    "\\hat{y} = \\arg\\max_{c} \\sum_{(\\mathbf{x}_i, y_i) \\in \\mathcal{N}_K(\\mathbf{x})} \\mathbf{1}(y_i = c)\n",
    "\\]$\n",
    "\n",
    "其中， $\\( c \\)$ 是可能的类别，$\\( \\mathbf{1} \\)$ 是指示函数，若 $\\( y_i = c \\)$，则 $\\( \\mathbf{1}(y_i = c) = 1 \\)$；否则 $\\( \\mathbf{1}(y_i = c) = 0 \\)$。\n"
   ],
   "id": "209874741627b4cb"
  },
  {
   "metadata": {},
   "cell_type": "markdown",
   "source": "总的来说，先计算距离，然后按距离升序，对前K个进行计数，统计不同标签出现的次数，最后降序，返回出现数量最多的标签",
   "id": "ad5efc07ecf0f4be"
  },
  {
   "metadata": {
    "ExecuteTime": {
     "end_time": "2024-08-15T01:25:10.530870Z",
     "start_time": "2024-08-15T01:25:10.524765Z"
    }
   },
   "cell_type": "code",
   "source": [
    "def classify0(inX, dataSet, labels, k):\n",
    "    # inX代表一个（1，n）的向量\n",
    "    dataSetSize = dataSet.shape[0]\n",
    "    # 生成和dataset一样的形状的矩阵，进行向量运算\n",
    "    diffMat = tile(inX, (dataSetSize, 1)) - dataSet\n",
    "    sqDiffMat = diffMat ** 2\n",
    "    # 按列相加\n",
    "    sqDistances = sqDiffMat.sum(axis=1)\n",
    "    distances = sqDistances ** 0.5\n",
    "    # 从小到大排序，但是返回值为索引值\n",
    "    sortedDistIndicies = distances.argsort()    # 索引值列表\n",
    "    classCount = {}\n",
    "    for i in range(k):\n",
    "        voteIlabel = labels[sortedDistIndicies[i]]\n",
    "        classCount[voteIlabel] = classCount.get(voteIlabel, 0) + 1\n",
    "    sortedClassCount = sorted(classCount.items(), key=operator.itemgetter(1), reverse=True)\n",
    "    return sortedClassCount[0][0]"
   ],
   "id": "cfcfc817de9c692b",
   "outputs": [],
   "execution_count": 5
  },
  {
   "metadata": {
    "ExecuteTime": {
     "end_time": "2024-08-15T01:25:10.538247Z",
     "start_time": "2024-08-15T01:25:10.530870Z"
    }
   },
   "cell_type": "code",
   "source": [
    "inX = array([1.0, 2.0])\n",
    "classify0(inX, group, labels, 3)"
   ],
   "id": "e7ce39d51403569f",
   "outputs": [
    {
     "data": {
      "text/plain": [
       "'A'"
      ]
     },
     "execution_count": 6,
     "metadata": {},
     "output_type": "execute_result"
    }
   ],
   "execution_count": 6
  }
 ],
 "metadata": {
  "kernelspec": {
   "display_name": "Python 3",
   "language": "python",
   "name": "python3"
  },
  "language_info": {
   "codemirror_mode": {
    "name": "ipython",
    "version": 2
   },
   "file_extension": ".py",
   "mimetype": "text/x-python",
   "name": "python",
   "nbconvert_exporter": "python",
   "pygments_lexer": "ipython2",
   "version": "2.7.6"
  }
 },
 "nbformat": 4,
 "nbformat_minor": 5
}
